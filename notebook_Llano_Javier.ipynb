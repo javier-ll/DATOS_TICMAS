{
 "cells": [
  {
   "cell_type": "code",
   "execution_count": 5,
   "metadata": {},
   "outputs": [],
   "source": [
    "# Procesamiento de datos con Python - Llano Javier\n",
    "import pandas as pd"
   ]
  },
  {
   "cell_type": "code",
   "execution_count": 6,
   "metadata": {},
   "outputs": [],
   "source": [
    "archivo_csv = \"Base de datos\\world_university_rank.csv\"\n",
    "\n",
    "dataframe = pd.read_csv(archivo_csv, encoding='ISO-8859-1')"
   ]
  },
  {
   "cell_type": "code",
   "execution_count": 7,
   "metadata": {},
   "outputs": [
    {
     "name": "stdout",
     "output_type": "stream",
     "text": [
      "Las primeras tres universidades rankeadas son: \n"
     ]
    },
    {
     "data": {
      "text/html": [
       "<div>\n",
       "<style scoped>\n",
       "    .dataframe tbody tr th:only-of-type {\n",
       "        vertical-align: middle;\n",
       "    }\n",
       "\n",
       "    .dataframe tbody tr th {\n",
       "        vertical-align: top;\n",
       "    }\n",
       "\n",
       "    .dataframe thead th {\n",
       "        text-align: right;\n",
       "    }\n",
       "</style>\n",
       "<table border=\"1\" class=\"dataframe\">\n",
       "  <thead>\n",
       "    <tr style=\"text-align: right;\">\n",
       "      <th></th>\n",
       "      <th>Rank</th>\n",
       "      <th>University name</th>\n",
       "      <th>locationLocation</th>\n",
       "      <th>Number of Studnet</th>\n",
       "      <th>Number of student per staffs</th>\n",
       "      <th>International Student</th>\n",
       "      <th>Female : male ratio</th>\n",
       "    </tr>\n",
       "  </thead>\n",
       "  <tbody>\n",
       "    <tr>\n",
       "      <th>0</th>\n",
       "      <td>1</td>\n",
       "      <td>University of Oxford</td>\n",
       "      <td>United Kingdom</td>\n",
       "      <td>20,965</td>\n",
       "      <td>10.6</td>\n",
       "      <td>42%</td>\n",
       "      <td>48 : 52</td>\n",
       "    </tr>\n",
       "    <tr>\n",
       "      <th>1</th>\n",
       "      <td>2</td>\n",
       "      <td>Harvard University</td>\n",
       "      <td>United States</td>\n",
       "      <td>21,887</td>\n",
       "      <td>9.6</td>\n",
       "      <td>25%</td>\n",
       "      <td>50 : 50</td>\n",
       "    </tr>\n",
       "    <tr>\n",
       "      <th>2</th>\n",
       "      <td>3</td>\n",
       "      <td>University of Cambridge</td>\n",
       "      <td>United Kingdom</td>\n",
       "      <td>20,185</td>\n",
       "      <td>11.3</td>\n",
       "      <td>39%</td>\n",
       "      <td>47 : 53</td>\n",
       "    </tr>\n",
       "  </tbody>\n",
       "</table>\n",
       "</div>"
      ],
      "text/plain": [
       "  Rank          University name locationLocation Number of Studnet  \\\n",
       "0    1     University of Oxford   United Kingdom            20,965   \n",
       "1    2       Harvard University    United States            21,887   \n",
       "2    3  University of Cambridge   United Kingdom            20,185   \n",
       "\n",
       "   Number of student per staffs International Student Female : male ratio  \n",
       "0                          10.6                   42%             48 : 52  \n",
       "1                           9.6                   25%             50 : 50  \n",
       "2                          11.3                   39%             47 : 53  "
      ]
     },
     "execution_count": 7,
     "metadata": {},
     "output_type": "execute_result"
    }
   ],
   "source": [
    "print(\"Las primeras tres universidades rankeadas son: \")\n",
    "dataframe.head(3)"
   ]
  },
  {
   "cell_type": "code",
   "execution_count": 8,
   "metadata": {},
   "outputs": [
    {
     "name": "stdout",
     "output_type": "stream",
     "text": [
      "Las últimas universidades en el ranking son: \n"
     ]
    },
    {
     "data": {
      "text/html": [
       "<div>\n",
       "<style scoped>\n",
       "    .dataframe tbody tr th:only-of-type {\n",
       "        vertical-align: middle;\n",
       "    }\n",
       "\n",
       "    .dataframe tbody tr th {\n",
       "        vertical-align: top;\n",
       "    }\n",
       "\n",
       "    .dataframe thead th {\n",
       "        text-align: right;\n",
       "    }\n",
       "</style>\n",
       "<table border=\"1\" class=\"dataframe\">\n",
       "  <thead>\n",
       "    <tr style=\"text-align: right;\">\n",
       "      <th></th>\n",
       "      <th>Rank</th>\n",
       "      <th>University name</th>\n",
       "      <th>locationLocation</th>\n",
       "      <th>Number of Studnet</th>\n",
       "      <th>Number of student per staffs</th>\n",
       "      <th>International Student</th>\n",
       "      <th>Female : male ratio</th>\n",
       "    </tr>\n",
       "  </thead>\n",
       "  <tbody>\n",
       "    <tr>\n",
       "      <th>2340</th>\n",
       "      <td>Reporter</td>\n",
       "      <td>York St John University</td>\n",
       "      <td>United Kingdom</td>\n",
       "      <td>6,315</td>\n",
       "      <td>18.6</td>\n",
       "      <td>12%</td>\n",
       "      <td>65 : 35</td>\n",
       "    </tr>\n",
       "    <tr>\n",
       "      <th>2341</th>\n",
       "      <td>Reporter</td>\n",
       "      <td>Yusuf Maitama Sule University, Kano</td>\n",
       "      <td>Nigeria</td>\n",
       "      <td>12,880</td>\n",
       "      <td>33.0</td>\n",
       "      <td>0%</td>\n",
       "      <td>48 : 52</td>\n",
       "    </tr>\n",
       "    <tr>\n",
       "      <th>2342</th>\n",
       "      <td>Reporter</td>\n",
       "      <td>Zhytomyr Polytechnic State University</td>\n",
       "      <td>Ukraine</td>\n",
       "      <td>3,869</td>\n",
       "      <td>15.4</td>\n",
       "      <td>1%</td>\n",
       "      <td>34 : 66</td>\n",
       "    </tr>\n",
       "    <tr>\n",
       "      <th>2343</th>\n",
       "      <td>Reporter</td>\n",
       "      <td>Ziauddin University</td>\n",
       "      <td>Pakistan</td>\n",
       "      <td>4,906</td>\n",
       "      <td>8.8</td>\n",
       "      <td>1%</td>\n",
       "      <td>63 : 37</td>\n",
       "    </tr>\n",
       "    <tr>\n",
       "      <th>2344</th>\n",
       "      <td>Reporter</td>\n",
       "      <td>Zarqa University</td>\n",
       "      <td>Jordan</td>\n",
       "      <td>5,768</td>\n",
       "      <td>18.1</td>\n",
       "      <td>32%</td>\n",
       "      <td>47 : 53</td>\n",
       "    </tr>\n",
       "  </tbody>\n",
       "</table>\n",
       "</div>"
      ],
      "text/plain": [
       "          Rank                        University name locationLocation  \\\n",
       "2340  Reporter                York St John University   United Kingdom   \n",
       "2341  Reporter    Yusuf Maitama Sule University, Kano          Nigeria   \n",
       "2342  Reporter  Zhytomyr Polytechnic State University          Ukraine   \n",
       "2343  Reporter                    Ziauddin University         Pakistan   \n",
       "2344  Reporter                       Zarqa University           Jordan   \n",
       "\n",
       "     Number of Studnet  Number of student per staffs International Student  \\\n",
       "2340             6,315                          18.6                   12%   \n",
       "2341            12,880                          33.0                    0%   \n",
       "2342             3,869                          15.4                    1%   \n",
       "2343             4,906                           8.8                    1%   \n",
       "2344             5,768                          18.1                   32%   \n",
       "\n",
       "     Female : male ratio  \n",
       "2340             65 : 35  \n",
       "2341             48 : 52  \n",
       "2342             34 : 66  \n",
       "2343             63 : 37  \n",
       "2344             47 : 53  "
      ]
     },
     "execution_count": 8,
     "metadata": {},
     "output_type": "execute_result"
    }
   ],
   "source": [
    "print(\"Las últimas universidades en el ranking son: \")\n",
    "dataframe.tail()"
   ]
  },
  {
   "cell_type": "code",
   "execution_count": 9,
   "metadata": {},
   "outputs": [
    {
     "name": "stdout",
     "output_type": "stream",
     "text": [
      "La cantidad de universidades por país en el ranking son:\n"
     ]
    },
    {
     "data": {
      "text/plain": [
       "United States     179\n",
       "United Kingdom    163\n",
       "Japan             152\n",
       "India             101\n",
       "China              95\n",
       "                 ... \n",
       "Jamaica             1\n",
       "Nepal               1\n",
       "Mozambique          1\n",
       "Malta               1\n",
       "Kosovo              1\n",
       "Name: locationLocation, Length: 117, dtype: int64"
      ]
     },
     "execution_count": 9,
     "metadata": {},
     "output_type": "execute_result"
    }
   ],
   "source": [
    "# Estadísticas descriptivas\n",
    "dataframe.describe()\n",
    "\n",
    "# Contar valores únicos en una columna\n",
    "print(\"La cantidad de universidades por país en el ranking son:\")\n",
    "dataframe['locationLocation'].value_counts()"
   ]
  },
  {
   "cell_type": "code",
   "execution_count": 10,
   "metadata": {},
   "outputs": [],
   "source": [
    "# Cambiar nombres a las columnas\n",
    "nuevos_nombres=['Puesto','Universidad','Ubicación','Cantidad de Estudiantes','Cantidad de Estudiantes por Personal Docente','Estudiantes Internacionales','Relación mujeres:hombres']\n",
    "# Asignar los nuevos nombres a las columnas\n",
    "dataframe.columns = nuevos_nombres"
   ]
  },
  {
   "cell_type": "code",
   "execution_count": 21,
   "metadata": {},
   "outputs": [
    {
     "name": "stdout",
     "output_type": "stream",
     "text": [
      "Puesto                                          float64\n",
      "Universidad                                      object\n",
      "Ubicación                                        object\n",
      "Cantidad de Estudiantes                          object\n",
      "Cantidad de Estudiantes por Personal Docente    float64\n",
      "Estudiantes Internacionales                      object\n",
      "Relación mujeres:hombres                         object\n",
      "dtype: object\n"
     ]
    }
   ],
   "source": [
    "# Obtener los tipos de datos de cada columna en el DataFrame\n",
    "tipos_de_datos = dataframe.dtypes\n",
    "print(tipos_de_datos)"
   ]
  },
  {
   "cell_type": "code",
   "execution_count": 27,
   "metadata": {},
   "outputs": [
    {
     "name": "stdout",
     "output_type": "stream",
     "text": [
      "El dataset filtrado solo con valores numéricos en la columna Puesto es:\n"
     ]
    },
    {
     "data": {
      "text/html": [
       "<div>\n",
       "<style scoped>\n",
       "    .dataframe tbody tr th:only-of-type {\n",
       "        vertical-align: middle;\n",
       "    }\n",
       "\n",
       "    .dataframe tbody tr th {\n",
       "        vertical-align: top;\n",
       "    }\n",
       "\n",
       "    .dataframe thead th {\n",
       "        text-align: right;\n",
       "    }\n",
       "</style>\n",
       "<table border=\"1\" class=\"dataframe\">\n",
       "  <thead>\n",
       "    <tr style=\"text-align: right;\">\n",
       "      <th></th>\n",
       "      <th>Puesto</th>\n",
       "      <th>Universidad</th>\n",
       "      <th>Ubicación</th>\n",
       "      <th>Cantidad de Estudiantes</th>\n",
       "      <th>Cantidad de Estudiantes por Personal Docente</th>\n",
       "      <th>Estudiantes Internacionales</th>\n",
       "      <th>Relación mujeres:hombres</th>\n",
       "    </tr>\n",
       "  </thead>\n",
       "  <tbody>\n",
       "    <tr>\n",
       "      <th>0</th>\n",
       "      <td>1.0</td>\n",
       "      <td>University of Oxford</td>\n",
       "      <td>United Kingdom</td>\n",
       "      <td>20965</td>\n",
       "      <td>10.6</td>\n",
       "      <td>42%</td>\n",
       "      <td>48 : 52</td>\n",
       "    </tr>\n",
       "    <tr>\n",
       "      <th>1</th>\n",
       "      <td>2.0</td>\n",
       "      <td>Harvard University</td>\n",
       "      <td>United States</td>\n",
       "      <td>21887</td>\n",
       "      <td>9.6</td>\n",
       "      <td>25%</td>\n",
       "      <td>50 : 50</td>\n",
       "    </tr>\n",
       "    <tr>\n",
       "      <th>2</th>\n",
       "      <td>3.0</td>\n",
       "      <td>University of Cambridge</td>\n",
       "      <td>United Kingdom</td>\n",
       "      <td>20185</td>\n",
       "      <td>11.3</td>\n",
       "      <td>39%</td>\n",
       "      <td>47 : 53</td>\n",
       "    </tr>\n",
       "    <tr>\n",
       "      <th>3</th>\n",
       "      <td>3.0</td>\n",
       "      <td>Stanford University</td>\n",
       "      <td>United States</td>\n",
       "      <td>16164</td>\n",
       "      <td>7.1</td>\n",
       "      <td>24%</td>\n",
       "      <td>46 : 54</td>\n",
       "    </tr>\n",
       "    <tr>\n",
       "      <th>4</th>\n",
       "      <td>5.0</td>\n",
       "      <td>Massachusetts Institute of Technology</td>\n",
       "      <td>United States</td>\n",
       "      <td>11415</td>\n",
       "      <td>8.2</td>\n",
       "      <td>33%</td>\n",
       "      <td>40 : 60</td>\n",
       "    </tr>\n",
       "    <tr>\n",
       "      <th>...</th>\n",
       "      <td>...</td>\n",
       "      <td>...</td>\n",
       "      <td>...</td>\n",
       "      <td>...</td>\n",
       "      <td>...</td>\n",
       "      <td>...</td>\n",
       "      <td>...</td>\n",
       "    </tr>\n",
       "    <tr>\n",
       "      <th>195</th>\n",
       "      <td>196.0</td>\n",
       "      <td>University of Erlangen-Nuremberg</td>\n",
       "      <td>Germany</td>\n",
       "      <td>30303</td>\n",
       "      <td>43.4</td>\n",
       "      <td>13%</td>\n",
       "      <td>51 : 49</td>\n",
       "    </tr>\n",
       "    <tr>\n",
       "      <th>196</th>\n",
       "      <td>196.0</td>\n",
       "      <td>Sichuan University</td>\n",
       "      <td>China</td>\n",
       "      <td>49543</td>\n",
       "      <td>15.8</td>\n",
       "      <td>6%</td>\n",
       "      <td>NaN</td>\n",
       "    </tr>\n",
       "    <tr>\n",
       "      <th>197</th>\n",
       "      <td>198.0</td>\n",
       "      <td>Durham University</td>\n",
       "      <td>United Kingdom</td>\n",
       "      <td>18425</td>\n",
       "      <td>14.1</td>\n",
       "      <td>35%</td>\n",
       "      <td>54 : 46</td>\n",
       "    </tr>\n",
       "    <tr>\n",
       "      <th>198</th>\n",
       "      <td>198.0</td>\n",
       "      <td>Queenâs University Belfast</td>\n",
       "      <td>United Kingdom</td>\n",
       "      <td>19060</td>\n",
       "      <td>15.8</td>\n",
       "      <td>39%</td>\n",
       "      <td>57 : 43</td>\n",
       "    </tr>\n",
       "    <tr>\n",
       "      <th>199</th>\n",
       "      <td>198.0</td>\n",
       "      <td>University of Reading</td>\n",
       "      <td>United Kingdom</td>\n",
       "      <td>15720</td>\n",
       "      <td>16.4</td>\n",
       "      <td>32%</td>\n",
       "      <td>56 : 44</td>\n",
       "    </tr>\n",
       "  </tbody>\n",
       "</table>\n",
       "<p>200 rows × 7 columns</p>\n",
       "</div>"
      ],
      "text/plain": [
       "     Puesto                            Universidad       Ubicación  \\\n",
       "0       1.0                   University of Oxford  United Kingdom   \n",
       "1       2.0                     Harvard University   United States   \n",
       "2       3.0                University of Cambridge  United Kingdom   \n",
       "3       3.0                    Stanford University   United States   \n",
       "4       5.0  Massachusetts Institute of Technology   United States   \n",
       "..      ...                                    ...             ...   \n",
       "195   196.0       University of Erlangen-Nuremberg         Germany   \n",
       "196   196.0                     Sichuan University           China   \n",
       "197   198.0                      Durham University  United Kingdom   \n",
       "198   198.0           Queenâs University Belfast  United Kingdom   \n",
       "199   198.0                  University of Reading  United Kingdom   \n",
       "\n",
       "     Cantidad de Estudiantes  Cantidad de Estudiantes por Personal Docente  \\\n",
       "0                      20965                                          10.6   \n",
       "1                      21887                                           9.6   \n",
       "2                      20185                                          11.3   \n",
       "3                      16164                                           7.1   \n",
       "4                      11415                                           8.2   \n",
       "..                       ...                                           ...   \n",
       "195                    30303                                          43.4   \n",
       "196                    49543                                          15.8   \n",
       "197                    18425                                          14.1   \n",
       "198                    19060                                          15.8   \n",
       "199                    15720                                          16.4   \n",
       "\n",
       "    Estudiantes Internacionales Relación mujeres:hombres  \n",
       "0                           42%                  48 : 52  \n",
       "1                           25%                  50 : 50  \n",
       "2                           39%                  47 : 53  \n",
       "3                           24%                  46 : 54  \n",
       "4                           33%                  40 : 60  \n",
       "..                          ...                      ...  \n",
       "195                         13%                  51 : 49  \n",
       "196                          6%                      NaN  \n",
       "197                         35%                  54 : 46  \n",
       "198                         39%                  57 : 43  \n",
       "199                         32%                  56 : 44  \n",
       "\n",
       "[200 rows x 7 columns]"
      ]
     },
     "execution_count": 27,
     "metadata": {},
     "output_type": "execute_result"
    }
   ],
   "source": [
    "# Reemplazar las comas por nada (eliminarlas)\n",
    "dataframe[\"Cantidad de Estudiantes\"] = dataframe[\"Cantidad de Estudiantes\"].replace(\",\", \"\", regex=True)\n",
    "\n",
    "# Cambiar tipo de dato de Cantidad de Estudiantes\n",
    "dataframe[\"Cantidad de Estudiantes\"] = dataframe[\"Cantidad de Estudiantes\"].astype(int)\n",
    "\n",
    "# Columna a filtrar\n",
    "columna_a_filtrar = 'Puesto'\n",
    "\n",
    "# Convierte los valores en la columna a valores numéricos\n",
    "dataframe[columna_a_filtrar] = pd.to_numeric(dataframe[columna_a_filtrar], errors='coerce')\n",
    "\n",
    "# Filtra las filas que contienen valores numéricos en la columna filtrada\n",
    "dataframe_filtrado = dataframe[dataframe[columna_a_filtrar].notna()]\n",
    "print(\"El dataset filtrado solo con valores numéricos en la columna Puesto es:\")\n",
    "dataframe_filtrado"
   ]
  },
  {
   "cell_type": "code",
   "execution_count": 47,
   "metadata": {},
   "outputs": [
    {
     "name": "stdout",
     "output_type": "stream",
     "text": [
      "Cantidad de estudiantes por país\n"
     ]
    },
    {
     "data": {
      "text/plain": [
       "<AxesSubplot:xlabel='Ubicación'>"
      ]
     },
     "execution_count": 47,
     "metadata": {},
     "output_type": "execute_result"
    },
    {
     "data": {
      "image/png": "[encoded data removed]",
      "text/plain": [
       "<Figure size 720x360 with 1 Axes>"
      ]
     },
     "metadata": {
      "needs_background": "light"
     },
     "output_type": "display_data"
    }
   ],
   "source": [
    "import matplotlib.pyplot as plt\n",
    "plt.close(\"all\")\n",
    "ubicacion=dataframe_filtrado.groupby(\"Ubicación\")[[\"Cantidad de Estudiantes\"]].sum()\n",
    "print(\"Cantidad de estudiantes por país\")\n",
    "# Aumenta el límite del eje y\n",
    "ubicacion.plot.bar(figsize=(10,5))"
   ]
  }
 ],
 "metadata": {
  "kernelspec": {
   "display_name": "Python 3",
   "language": "python",
   "name": "python3"
  },
  "language_info": {
   "codemirror_mode": {
    "name": "ipython",
    "version": 3
   },
   "file_extension": ".py",
   "mimetype": "text/x-python",
   "name": "python",
   "nbconvert_exporter": "python",
   "pygments_lexer": "ipython3",
   "version": "3.10.3"
  },
  "orig_nbformat": 4
 },
 "nbformat": 4,
 "nbformat_minor": 2
}
